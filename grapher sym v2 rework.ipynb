{
 "cells": [
  {
   "cell_type": "code",
   "execution_count": 1,
   "metadata": {},
   "outputs": [],
   "source": [
    "import numpy\n",
    "import scipy.constants as sciConst\n",
    "import sympy\n",
    "from PIL import Image                   # View in default viewer"
   ]
  },
  {
   "cell_type": "code",
   "execution_count": 2,
   "metadata": {},
   "outputs": [],
   "source": [
    "def getCartisianVectorValues(chargesCartesianCoordinates = []):\n",
    "    if len(chargesCartesianCoordinates) <= 0:\n",
    "        raise Exception(\"This function needs at least one dimension.\")\n",
    "\n",
    "    if len(chargesCartesianCoordinates) > 4:\n",
    "        raise Exception(\"Tried to calculate too many dimensions.\")\n",
    "\n",
    "    unitVector = []\n",
    "    magnitude = 0\n",
    "\n",
    "    for component in chargesCartesianCoordinates:\n",
    "        try:\n",
    "            magnitude = numpy.sqrt(magnitude**2+component**2)\n",
    "        except:\n",
    "            magnitude = sympy.sqrt(magnitude**2+component**2)\n",
    "    \n",
    "    for component in chargesCartesianCoordinates:\n",
    "        if magnitude == 0:\n",
    "            unitVector.append(1)\n",
    "        unitVector.append(component/magnitude)\n",
    "\n",
    "    return [unitVector, magnitude]"
   ]
  },
  {
   "cell_type": "code",
   "execution_count": 3,
   "metadata": {},
   "outputs": [],
   "source": [
    "charge = sciConst.elementary_charge # Unit: Coulombs (C)\n",
    "permittivity = 8.854187 * 10**-12 # Unit: Farads per meter (F*m^-1)\n",
    "\n",
    "fieldFormulaConstants = charge/(4*numpy.pi*permittivity)"
   ]
  },
  {
   "cell_type": "code",
   "execution_count": 4,
   "metadata": {},
   "outputs": [],
   "source": [
    "def calculateFieldImages(xAmount = 1, yAmount = 1, zAmount = 1, cubeLength = 1, charges = []):\n",
    "\n",
    "    scalingFactor = ((3/4)*10**8)*(cubeLength)**2/(10**-numpy.log10(cubeLength))\n",
    "\n",
    "    xValues = numpy.linspace(-cubeLength,cubeLength,xAmount)\n",
    "    yValues = numpy.linspace(cubeLength,-cubeLength,yAmount)\n",
    "    zValues = numpy.linspace(-cubeLength,cubeLength,zAmount)\n",
    "\n",
    "    images = []\n",
    "\n",
    "    for imageZ in range(0,zAmount):\n",
    "        points = numpy.zeros((xAmount,yAmount,4), dtype=numpy.uint8)\n",
    "        for pixelX in range(0,xAmount):\n",
    "            for pixelY in range(0,yAmount):\n",
    "                composedUnitVector = [1,1,1]\n",
    "                composedMagnitude = 0\n",
    "                for charge in charges:\n",
    "                    x = xValues[pixelX] - charge[0]\n",
    "                    y = yValues[pixelY] - charge[1]\n",
    "                    [r,m] = getCartisianVectorValues((x,y,zValues[imageZ]))\n",
    "                    componentX = r[0]/m**3+composedUnitVector[0]*composedMagnitude\n",
    "                    componentY = r[1]/m**3+composedUnitVector[1]*composedMagnitude\n",
    "                    componentZ = r[2]/m**3+composedUnitVector[2]*composedMagnitude\n",
    "                    vector = (componentX,componentY,componentZ)\n",
    "                    [composedUnitVector,composedMagnitude] = getCartisianVectorValues(vector)\n",
    "                for component in range(0,3):\n",
    "                    points[pixelY,pixelX,component] = 127.5 * composedUnitVector[component] + 127.5\n",
    "                \n",
    "                effect = (scalingFactor * fieldFormulaConstants * composedMagnitude) * 100\n",
    "            \n",
    "                if effect > 255:\n",
    "                    points[pixelY,pixelX,3] = 255\n",
    "                elif effect < 0:\n",
    "                    points[pixelY,pixelX,3] = 0\n",
    "                else:\n",
    "                    points[pixelY,pixelX,3] = effect\n",
    "\n",
    "        images.append(points)\n",
    "    \n",
    "    return images"
   ]
  },
  {
   "cell_type": "code",
   "execution_count": 5,
   "metadata": {},
   "outputs": [],
   "source": [
    "# images1 = calculateFieldImages(100,100,3,100,charges=[[0,0]])\n",
    "# images2 = calculateFieldImages(100,100,3,1,charges=[[0,0]])\n",
    "# images3 = calculateFieldImages(100,100,3,0.01,charges=[[0,0]])\n",
    "\n",
    "# images=[images1,images2,images3]\n",
    "\n",
    "chart = calculateFieldImages(200,200,31,10,charges=[[5,0],[-5,0],[0,5],[0,-5],[0,0]])\n",
    "\n",
    "for plot in range(0,len(chart)):\n",
    "    image = Image.fromarray(chart[plot], mode=\"RGBA\")\n",
    "    image.save(\"fieldImages\\\\%i.png\"%(plot),\"PNG\")\n",
    "\n",
    "# z1,z2,z3,z4,z5 = Image.fromarray(images[0]), Image.fromarray(images[1]), Image.fromarray(images[2]), Image.fromarray(images[3]), Image.fromarray(images[4])\n",
    "\n",
    "# z1.show()\n",
    "# z2.show()\n",
    "# z3.show()\n",
    "# z4.show()\n",
    "# z5.show()"
   ]
  }
 ],
 "metadata": {
  "interpreter": {
   "hash": "3e6eaf00392b0cb8b5a646d3515e821c15d6342d64f11192f7e7dc8c1b273a06"
  },
  "kernelspec": {
   "display_name": "Python 3.10.2 64-bit",
   "language": "python",
   "name": "python3"
  },
  "language_info": {
   "codemirror_mode": {
    "name": "ipython",
    "version": 3
   },
   "file_extension": ".py",
   "mimetype": "text/x-python",
   "name": "python",
   "nbconvert_exporter": "python",
   "pygments_lexer": "ipython3",
   "version": "3.10.2"
  },
  "orig_nbformat": 4
 },
 "nbformat": 4,
 "nbformat_minor": 2
}
